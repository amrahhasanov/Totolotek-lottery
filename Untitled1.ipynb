{
  "nbformat": 4,
  "nbformat_minor": 0,
  "metadata": {
    "colab": {
      "name": "Untitled1.ipynb",
      "provenance": [],
      "authorship_tag": "ABX9TyNo0Dt/6xPStAzenrHzMbIn",
      "include_colab_link": true
    },
    "kernelspec": {
      "name": "python3",
      "display_name": "Python 3"
    },
    "language_info": {
      "name": "python"
    }
  },
  "cells": [
    {
      "cell_type": "markdown",
      "metadata": {
        "id": "view-in-github",
        "colab_type": "text"
      },
      "source": [
        "<a href=\"https://colab.research.google.com/github/amrahhasanov/Totolotek-lottery/blob/main/Untitled1.ipynb\" target=\"_parent\"><img src=\"https://colab.research.google.com/assets/colab-badge.svg\" alt=\"Open In Colab\"/></a>"
      ]
    },
    {
      "cell_type": "markdown",
      "source": [
        "This is my one of the first python beginner project that I can call a project. Enjoy!"
      ],
      "metadata": {
        "id": "0LXYIpasRrHq"
      }
    },
    {
      "cell_type": "code",
      "execution_count": 2,
      "metadata": {
        "colab": {
          "base_uri": "https://localhost:8080/"
        },
        "id": "57z18h2BRODm",
        "outputId": "48b2a65d-29ac-4646-c9fd-2d6417178ad4"
      },
      "outputs": [
        {
          "output_type": "stream",
          "name": "stdout",
          "text": [
            "Welcome to Totolotek\n",
            "Enter the a number: 43\n",
            "Enter the a number: 2\n",
            "Enter the a number: 21\n",
            "Enter the a number: 12\n",
            "Enter the a number: 32\n",
            "Enter the a number: 43\n",
            "Your numbers:  [43, 2, 21, 12, 32, 43]\n",
            "Drawn numbers:  [49, 26, 12, 23, 44, 29]\n",
            "Number of common elements:  1\n",
            "These are the common elemens:  [12]\n",
            "Unfortunately you did not won anything\n"
          ]
        }
      ],
      "source": [
        "print(\"Welcome to Totolotek\")\n",
        "list_user = []\n",
        "def draw_1():\n",
        "\n",
        "    for i in range(6):\n",
        "        aa = int(input('Enter the a number: '))\n",
        "        if 1 <= aa <= 49:\n",
        "            list_user.append(aa)\n",
        "        else :\n",
        "            aa = int(input('This one was not on range of 49, Enter another instead:'))\n",
        "            if 1 <= aa <= 49:\n",
        "                list_user.append(aa)\n",
        "            else:\n",
        "                print(\"Now you decreased our chance of winning\")\n",
        "\n",
        "\n",
        "    print(\"Your numbers: \",list_user)\n",
        "draw_1()\n",
        "\n",
        "import random\n",
        "list_computer = []\n",
        "def draw_2():\n",
        "    num_2 = random.randint(0, 49)\n",
        "    list_computer.append(num_2)\n",
        "for _ in range(6):\n",
        "    draw_2()\n",
        "print(\"Drawn numbers: \", list_computer)\n",
        "\n",
        "\n",
        "\n",
        "common_list = []\n",
        "for element in list_user:\n",
        "    if element in list_computer:\n",
        "        common_list.append(element)\n",
        "\n",
        "if len(common_list) == 0:\n",
        "    print(\"There is no match\")\n",
        "    print(\"Unfortunately you did not won anything\")\n",
        "\n",
        "elif len(common_list) >= 3:\n",
        "    print(\"Congratulations you won the Jackpot.....\")\n",
        "else:\n",
        "    print(\"Number of common elements: \", len(common_list))\n",
        "    print(\"These are the common elemens: \", common_list)\n",
        "    print(\"Unfortunately you did not won anything\")"
      ]
    }
  ]
}